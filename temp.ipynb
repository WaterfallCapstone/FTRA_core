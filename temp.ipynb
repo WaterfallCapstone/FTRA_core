{
 "cells": [
  {
   "cell_type": "code",
   "execution_count": 2,
   "metadata": {},
   "outputs": [],
   "source": [
    "import multiprocessing as mp\n",
    "import time"
   ]
  },
  {
   "cell_type": "code",
   "execution_count": 6,
   "metadata": {},
   "outputs": [
    {
     "name": "stdout",
     "output_type": "stream",
     "text": [
      "A\n",
      "b\n",
      "A\n",
      "b\n"
     ]
    }
   ],
   "source": [
    "q = mp.Queue()\n",
    "\n",
    "q.put(\"A\")\n",
    "\n",
    "print(q.get())\n",
    "\n",
    "q.put(\"b\")\n",
    "print(q.get())\n",
    "\n",
    "q.put(\"A\")\n",
    "q.put(\"b\")\n",
    "print(q.get())\n",
    "print(q.get())"
   ]
  },
  {
   "cell_type": "code",
   "execution_count": null,
   "metadata": {},
   "outputs": [],
   "source": [
    "def foo(inq, outq):\n",
    "    while True:\n",
    "        if not inq.empty():\n",
    "            data = inq.get()\n",
    "            print(\"foo : \",data)\n",
    "            outq.put(data)\n",
    "        time.sleep(1)\n",
    "        \n",
    "\n",
    "def foo2(inq, outq):\n",
    "    while True:\n",
    "        if not inq.empty():\n",
    "            data = inq.get()\n",
    "            print(\"foo2 : \",data)\n",
    "            outq.put(data)\n",
    "        time.sleep(1)\n",
    "\n",
    "\n",
    "if __name__ == '__main__':\n",
    "    q1 = mp.Queue()\n",
    "    q2 = mp.Queue()\n",
    "\n",
    "    q1.put(\"a\")\n",
    "    q2.put(\"b\")\n",
    "\n",
    "    p1 = mp.Process(target=foo, args=(q1,q2))\n",
    "    p2 = mp.Process(target=foo2, args=(q2,q1))\n",
    "\n",
    "    p1.start()\n",
    "    p2.start()"
   ]
  }
 ],
 "metadata": {
  "kernelspec": {
   "display_name": "Python 3",
   "language": "python",
   "name": "python3"
  },
  "language_info": {
   "codemirror_mode": {
    "name": "ipython",
    "version": 3
   },
   "file_extension": ".py",
   "mimetype": "text/x-python",
   "name": "python",
   "nbconvert_exporter": "python",
   "pygments_lexer": "ipython3",
   "version": "3.8.10"
  },
  "orig_nbformat": 4
 },
 "nbformat": 4,
 "nbformat_minor": 2
}
